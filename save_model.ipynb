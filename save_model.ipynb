{
 "cells": [
  {
   "cell_type": "markdown",
   "metadata": {},
   "source": [
    "# Save LLM model\n",
    "Simple notebook to load and save a model in memory. \n",
    "**Warning** \n",
    "LLMs usually require a lot of disc space."
   ]
  },
  {
   "cell_type": "code",
   "execution_count": null,
   "metadata": {},
   "outputs": [],
   "source": [
    "from src.sql_model import TextToSQLModel\n",
    "\n",
    "TextToSQLModel(\n",
    "    save_model=True, \n",
    "    saving_dir=\"{saving dir}\"\n",
    ")._build_model_pipeline()"
   ]
  }
 ],
 "metadata": {
  "language_info": {
   "name": "python"
  },
  "orig_nbformat": 4
 },
 "nbformat": 4,
 "nbformat_minor": 2
}
